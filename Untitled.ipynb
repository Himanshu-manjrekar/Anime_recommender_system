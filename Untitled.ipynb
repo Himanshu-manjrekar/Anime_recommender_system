{
 "cells": [
  {
   "cell_type": "code",
   "execution_count": 1,
   "id": "bca3baf3-7b40-4d5a-b881-b5ab5b6517c3",
   "metadata": {},
   "outputs": [],
   "source": [
    "import os"
   ]
  },
  {
   "cell_type": "code",
   "execution_count": 9,
   "id": "ae578b92-e2ef-4c46-95b4-005836ba0bf9",
   "metadata": {},
   "outputs": [],
   "source": [
    "file_path = os.path.join(\"src\\\\components\\\\artifacts\\\\embedding_matrix\", \"embedding_matrix.pkl\")"
   ]
  },
  {
   "cell_type": "code",
   "execution_count": 10,
   "id": "1476049d-d5cb-401e-8354-268257897f0b",
   "metadata": {},
   "outputs": [
    {
     "data": {
      "text/plain": [
       "'src\\\\components\\\\artifacts\\\\embedding_matrix\\\\embedding_matrix.pkl'"
      ]
     },
     "execution_count": 10,
     "metadata": {},
     "output_type": "execute_result"
    }
   ],
   "source": [
    "file_path"
   ]
  },
  {
   "cell_type": "code",
   "execution_count": 3,
   "id": "64d26b43-6c21-4e7b-8af3-8aa0db193fb9",
   "metadata": {},
   "outputs": [],
   "source": [
    "def save_obj(file_path):\n",
    "    dir_path = os.path.dirname(file_path)\n",
    "    print(os.makedirs(dir_path, exist_ok=True))\n",
    "    "
   ]
  },
  {
   "cell_type": "code",
   "execution_count": 11,
   "id": "733e77c3-29c3-4d94-8a78-25f71ab4fd97",
   "metadata": {},
   "outputs": [
    {
     "name": "stdout",
     "output_type": "stream",
     "text": [
      "src\\components\\artifacts\\embedding_matrix\n"
     ]
    }
   ],
   "source": [
    "dir_path = os.path.dirname(file_path)\n",
    "print(dir_path)"
   ]
  },
  {
   "cell_type": "code",
   "execution_count": 12,
   "id": "fad6f300-6a01-4dbd-ab49-fb02a32add03",
   "metadata": {},
   "outputs": [],
   "source": [
    "os.makedirs(dir_path, exist_ok=True)"
   ]
  },
  {
   "cell_type": "code",
   "execution_count": null,
   "id": "205e59d0-fb67-4f4b-9121-0f602a299e30",
   "metadata": {},
   "outputs": [],
   "source": []
  }
 ],
 "metadata": {
  "kernelspec": {
   "display_name": "Python 3 (ipykernel)",
   "language": "python",
   "name": "python3"
  },
  "language_info": {
   "codemirror_mode": {
    "name": "ipython",
    "version": 3
   },
   "file_extension": ".py",
   "mimetype": "text/x-python",
   "name": "python",
   "nbconvert_exporter": "python",
   "pygments_lexer": "ipython3",
   "version": "3.12.6"
  }
 },
 "nbformat": 4,
 "nbformat_minor": 5
}
