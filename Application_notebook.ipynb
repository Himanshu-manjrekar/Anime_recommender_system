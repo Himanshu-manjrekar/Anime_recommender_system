{
 "cells": [
  {
   "cell_type": "code",
   "execution_count": 1,
   "metadata": {
    "_cell_guid": "b1076dfc-b9ad-4769-8c92-a6c4dae69d19",
    "_uuid": "8f2839f25d086af736a60e9eeb907d3b93b6e0e5",
    "execution": {
     "iopub.execute_input": "2025-03-03T17:16:20.216473Z",
     "iopub.status.busy": "2025-03-03T17:16:20.216095Z",
     "iopub.status.idle": "2025-03-03T17:16:55.877356Z",
     "shell.execute_reply": "2025-03-03T17:16:55.875773Z",
     "shell.execute_reply.started": "2025-03-03T17:16:20.216437Z"
    },
    "trusted": true
   },
   "outputs": [
    {
     "name": "stdout",
     "output_type": "stream",
     "text": [
      "[nltk_data] Downloading package punkt to /usr/share/nltk_data...\n",
      "[nltk_data]   Package punkt is already up-to-date!\n",
      "[nltk_data] Downloading package stopwords to /usr/share/nltk_data...\n",
      "[nltk_data]   Unzipping corpora/stopwords.zip.\n",
      "[nltk_data] Downloading package wordnet to /usr/share/nltk_data...\n",
      "[nltk_data]   Package wordnet is already up-to-date!\n",
      "Archive:  /usr/share/nltk_data/corpora/wordnet.zip\n",
      "   creating: /usr/share/nltk_data/corpora/wordnet/\n",
      "  inflating: /usr/share/nltk_data/corpora/wordnet/lexnames  \n",
      "  inflating: /usr/share/nltk_data/corpora/wordnet/data.verb  \n",
      "  inflating: /usr/share/nltk_data/corpora/wordnet/index.adv  \n",
      "  inflating: /usr/share/nltk_data/corpora/wordnet/adv.exc  \n",
      "  inflating: /usr/share/nltk_data/corpora/wordnet/index.verb  \n",
      "  inflating: /usr/share/nltk_data/corpora/wordnet/cntlist.rev  \n",
      "  inflating: /usr/share/nltk_data/corpora/wordnet/data.adj  \n",
      "  inflating: /usr/share/nltk_data/corpora/wordnet/index.adj  \n",
      "  inflating: /usr/share/nltk_data/corpora/wordnet/LICENSE  \n",
      "  inflating: /usr/share/nltk_data/corpora/wordnet/citation.bib  \n",
      "  inflating: /usr/share/nltk_data/corpora/wordnet/noun.exc  \n",
      "  inflating: /usr/share/nltk_data/corpora/wordnet/verb.exc  \n",
      "  inflating: /usr/share/nltk_data/corpora/wordnet/README  \n",
      "  inflating: /usr/share/nltk_data/corpora/wordnet/index.sense  \n",
      "  inflating: /usr/share/nltk_data/corpora/wordnet/data.noun  \n",
      "  inflating: /usr/share/nltk_data/corpora/wordnet/data.adv  \n",
      "  inflating: /usr/share/nltk_data/corpora/wordnet/index.noun  \n",
      "  inflating: /usr/share/nltk_data/corpora/wordnet/adj.exc  \n"
     ]
    }
   ],
   "source": [
    "import numpy as np\n",
    "import pandas as pd\n",
    "import torch\n",
    "import requests\n",
    "import json\n",
    "import re\n",
    "import time\n",
    "import inflect\n",
    "import nltk\n",
    "import spacy\n",
    "import datetime\n",
    "import tensorflow as tf\n",
    "import plotly.graph_objects as go\n",
    "import pickle\n",
    "\n",
    "from nltk.corpus import stopwords\n",
    "from nltk.tokenize import word_tokenize\n",
    "from nltk.stem import WordNetLemmatizer\n",
    "from sentence_transformers import SentenceTransformer\n",
    "from sklearn.metrics.pairwise import cosine_similarity\n",
    "from sklearn.decomposition import PCA\n",
    "\n",
    "nltk.download('punkt')\n",
    "nltk.download('stopwords')\n",
    "nltk.download('wordnet')\n",
    "!unzip /usr/share/nltk_data/corpora/wordnet.zip -d /usr/share/nltk_data/corpora/"
   ]
  },
  {
   "cell_type": "markdown",
   "metadata": {},
   "source": [
    "### Global Variables"
   ]
  },
  {
   "cell_type": "code",
   "execution_count": 2,
   "metadata": {
    "execution": {
     "iopub.execute_input": "2025-03-03T17:16:55.881071Z",
     "iopub.status.busy": "2025-03-03T17:16:55.879201Z",
     "iopub.status.idle": "2025-03-03T17:16:56.835794Z",
     "shell.execute_reply": "2025-03-03T17:16:56.834808Z",
     "shell.execute_reply.started": "2025-03-03T17:16:55.881016Z"
    },
    "trusted": true
   },
   "outputs": [],
   "source": [
    "p = inflect.engine()\n",
    "base_url = \"https://api.jikan.moe/v4/\"\n",
    "tool_kit = spacy.load(\"en_core_web_sm\")"
   ]
  },
  {
   "cell_type": "markdown",
   "metadata": {},
   "source": [
    "## Helper Functions"
   ]
  },
  {
   "cell_type": "code",
   "execution_count": 19,
   "metadata": {
    "execution": {
     "iopub.execute_input": "2025-03-03T17:22:48.622193Z",
     "iopub.status.busy": "2025-03-03T17:22:48.621776Z",
     "iopub.status.idle": "2025-03-03T17:22:48.632366Z",
     "shell.execute_reply": "2025-03-03T17:22:48.631109Z",
     "shell.execute_reply.started": "2025-03-03T17:22:48.622152Z"
    },
    "trusted": true
   },
   "outputs": [],
   "source": [
    "def unpacked_title_synonmys(a):\n",
    "    titles = a[1:-1]\n",
    "    unpacked = []\n",
    "    for i in a:\n",
    "        unpacked.append(i)\n",
    "    return unpacked\n",
    "\n",
    "\n",
    "def text_cleaner(text):\n",
    "    text = re.sub(\"[^a-zA-Z0-9]\", \" \", text)\n",
    "    text = text.strip()\n",
    "    return text\n",
    "\n",
    "\n",
    "def handle_english_title(a):\n",
    "    if pd.isna(a[\"title_english\"]):\n",
    "        return a[\"title_default\"]\n",
    "    return a[\"title_english\"]\n",
    "\n",
    "def handle_title_synonyms(a):\n",
    "    if pd.isna(a[\"title_synonyms\"]):\n",
    "        return a[\"title_default\"]\n",
    "    return a[\"title_synonyms\"]\n",
    "\n",
    "def preprocess_text(text):\n",
    "    text = text.lower()  # Lowercase\n",
    "    text = re.sub(r'[^a-zA-Z0-9\\s]', '', text)  # Remove special characters\n",
    "    tokens = word_tokenize(text)  # Tokenization\n",
    "    tokens = [word for word in tokens if word not in stopwords.words('english')]  # Remove stopwords\n",
    "    lemmatizer = WordNetLemmatizer()\n",
    "    tokens = [lemmatizer.lemmatize(word) for word in tokens]  # Lemmatization\n",
    "    return ' '.join(tokens)\n",
    "\n",
    "def clean_synopsis(a):\n",
    "    find = \"[Written by MAL Rewrite]\"\n",
    "    if find in a:\n",
    "        a = a.replace(find, \"\")\n",
    "        a = a.strip()\n",
    "        return a\n",
    "    else:\n",
    "        a = a.strip()\n",
    "        return a\n",
    "\n",
    "def update_synopsis(a):\n",
    "    if a[\"title_english\"] == a[\"title_synonyms\"]:\n",
    "        return a[\"synopsis\"] + \" \" +a[\"title_english\"]\n",
    "    else:\n",
    "        return a[\"synopsis\"] + \" \" + a[\"title_synonyms\"] + \" \" + a[\"title_english\"]\n",
    "\n",
    "\n",
    "\n",
    "def get_embedding(text):\n",
    "    processed_text = preprocess_text(text)  # Preprocess input\n",
    "    return model.encode(processed_text, show_progress_bar = False)  # Convert to vector"
   ]
  },
  {
   "cell_type": "markdown",
   "metadata": {},
   "source": [
    "## Gathering The Data"
   ]
  },
  {
   "cell_type": "code",
   "execution_count": 35,
   "metadata": {
    "execution": {
     "iopub.execute_input": "2025-03-03T17:32:11.886547Z",
     "iopub.status.busy": "2025-03-03T17:32:11.886212Z",
     "iopub.status.idle": "2025-03-03T17:32:12.963615Z",
     "shell.execute_reply": "2025-03-03T17:32:12.962697Z",
     "shell.execute_reply.started": "2025-03-03T17:32:11.886523Z"
    },
    "trusted": true
   },
   "outputs": [
    {
     "name": "stdout",
     "output_type": "stream",
     "text": [
      "Happy Lesson OVA\n"
     ]
    }
   ],
   "source": [
    "response = requests.request(\"GET\", base_url+'anime?page=10')   # hitting the URL w.r.t page number\n",
    "response = json.loads(response.text)\n",
    "data = response[\"data\"]\n",
    "# print(data[10][\"title_synonyms\"])\n",
    "unpacked_title = []\n",
    "for i in data[10][\"title_synonyms\"]:\n",
    "    unpacked_title.append(i)\n",
    "print(\"\".join(unpacked_title))\n",
    "# print(data[10][\"genres\"])"
   ]
  },
  {
   "cell_type": "code",
   "execution_count": null,
   "metadata": {
    "execution": {
     "iopub.execute_input": "2025-03-03T17:33:36.836392Z",
     "iopub.status.busy": "2025-03-03T17:33:36.835948Z",
     "iopub.status.idle": "2025-03-03T17:33:55.730507Z",
     "shell.execute_reply": "2025-03-03T17:33:55.729327Z",
     "shell.execute_reply.started": "2025-03-03T17:33:36.836363Z"
    },
    "trusted": true
   },
   "outputs": [
    {
     "name": "stdout",
     "output_type": "stream",
     "text": [
      "URL :-  https://api.jikan.moe/v4/anime?page=1\n",
      "URL :-  https://api.jikan.moe/v4/anime?page=2\n",
      "URL :-  https://api.jikan.moe/v4/anime?page=3\n",
      "URL :-  https://api.jikan.moe/v4/anime?page=4\n",
      "URL :-  https://api.jikan.moe/v4/anime?page=5\n",
      "URL :-  https://api.jikan.moe/v4/anime?page=6\n",
      "URL :-  https://api.jikan.moe/v4/anime?page=7\n",
      "URL :-  https://api.jikan.moe/v4/anime?page=8\n",
      "URL :-  https://api.jikan.moe/v4/anime?page=9\n",
      "URL :-  https://api.jikan.moe/v4/anime?page=10\n",
      "URL :-  https://api.jikan.moe/v4/anime?page=11\n",
      "Task Completed\n"
     ]
    }
   ],
   "source": [
    "# animes dictionary which will be converted to DataFrame\n",
    "animes = {\n",
    "    \"mal_id\": [],          # store mal_id of Anime\n",
    "    \"title_default\": [],   # store default title of Anime\n",
    "    \"title_english\": [],   # store English title of Anime\n",
    "    \"title_synonyms\": [],  # store Synonyms of title of Anime\n",
    "    \"synopsis\": [],        # store description of Anime\n",
    "    \"season\": [],          # store season of Anime\n",
    "    \"genres\": [],          # store genres of Anime\n",
    "}\n",
    "\n",
    "page = 1   # pages counter as we are getting data of anime's w.r.t pages\n",
    "\n",
    "# an initial request to get \"has_next_page\" bool value which will be acting as a controller for while loop\n",
    "response = requests.request(\"GET\", base_url+\"anime\")   # API response after hitting the base_url+anime\n",
    "response = json.loads(response.text)                   # load response in json for better interoperability\n",
    "next_page = response[\"pagination\"][\"has_next_page\"]    # next_page controller\n",
    " \n",
    "try:\n",
    "    while next_page:\n",
    "        print(\"URL :- \",base_url+'anime?page='+str(page)) # acting as a chceker what URL we are hitting\n",
    "        response = requests.request(\"GET\", base_url+'anime?page='+str(page))   # hitting the URL w.r.t page number\n",
    "        response = json.loads(response.text)\n",
    "        pagination = response[\"pagination\"]\n",
    "        data = response[\"data\"]     # getting data from response\n",
    "\n",
    "        # unloading data from data\n",
    "        for i in range(len(data)):\n",
    "            # appendning data in animes Dictionary\n",
    "            animes[\"mal_id\"].append(data[i][\"mal_id\"])               \n",
    "            animes[\"title_default\"].append(data[i][\"title\"])\n",
    "            animes[\"title_english\"].append(data[i][\"title_english\"])\n",
    "            # unpacking title_synonyms into unpacked_titles\n",
    "            titles = data[i][\"title_synonyms\"]\n",
    "            unpacked_titles = [] \n",
    "            for _ in titles:\n",
    "                unpacked_titles.append(_)\n",
    "            animes[\"title_synonyms\"].append(\" \".join(unpacked_titles))\n",
    "            \n",
    "            animes[\"synopsis\"].append(data[i][\"synopsis\"])\n",
    "            animes[\"season\"].append(data[i][\"season\"])\n",
    "            genres = data[i][\"genres\"]\n",
    "\n",
    "            # unpacking genres into genres_fetched\n",
    "            genres_fetched = []\n",
    "            for j in genres:\n",
    "                genres_fetched.append(j[\"name\"])\n",
    "            animes[\"genres\"].append(\" \".join(genres_fetched))\n",
    "            \n",
    "        page += 1     # incrementing page counter by 1 \n",
    "        time.sleep(0.5)  # Wait for 2 seconds to make another request\n",
    "except Exception as e:\n",
    "    print(e)\n",
    "print(\"Task Completed\")\n"
   ]
  },
  {
   "cell_type": "markdown",
   "metadata": {},
   "source": [
    "## Creating DataFrame"
   ]
  },
  {
   "cell_type": "code",
   "execution_count": 37,
   "metadata": {
    "execution": {
     "iopub.execute_input": "2025-03-03T17:33:55.732052Z",
     "iopub.status.busy": "2025-03-03T17:33:55.731744Z",
     "iopub.status.idle": "2025-03-03T17:33:55.737652Z",
     "shell.execute_reply": "2025-03-03T17:33:55.736510Z",
     "shell.execute_reply.started": "2025-03-03T17:33:55.732017Z"
    },
    "trusted": true
   },
   "outputs": [],
   "source": [
    "df = pd.DataFrame(animes)"
   ]
  },
  {
   "cell_type": "code",
   "execution_count": 38,
   "metadata": {
    "execution": {
     "iopub.execute_input": "2025-03-03T17:33:55.739455Z",
     "iopub.status.busy": "2025-03-03T17:33:55.739145Z",
     "iopub.status.idle": "2025-03-03T17:33:55.764495Z",
     "shell.execute_reply": "2025-03-03T17:33:55.763526Z",
     "shell.execute_reply.started": "2025-03-03T17:33:55.739430Z"
    },
    "trusted": true
   },
   "outputs": [
    {
     "data": {
      "text/html": [
       "<div>\n",
       "<style scoped>\n",
       "    .dataframe tbody tr th:only-of-type {\n",
       "        vertical-align: middle;\n",
       "    }\n",
       "\n",
       "    .dataframe tbody tr th {\n",
       "        vertical-align: top;\n",
       "    }\n",
       "\n",
       "    .dataframe thead th {\n",
       "        text-align: right;\n",
       "    }\n",
       "</style>\n",
       "<table border=\"1\" class=\"dataframe\">\n",
       "  <thead>\n",
       "    <tr style=\"text-align: right;\">\n",
       "      <th></th>\n",
       "      <th>mal_id</th>\n",
       "      <th>title_default</th>\n",
       "      <th>title_english</th>\n",
       "      <th>title_synonyms</th>\n",
       "      <th>synopsis</th>\n",
       "      <th>season</th>\n",
       "      <th>genres</th>\n",
       "    </tr>\n",
       "  </thead>\n",
       "  <tbody>\n",
       "    <tr>\n",
       "      <th>0</th>\n",
       "      <td>1</td>\n",
       "      <td>Cowboy Bebop</td>\n",
       "      <td>Cowboy Bebop</td>\n",
       "      <td></td>\n",
       "      <td>Crime is timeless. By the year 2071, humanity ...</td>\n",
       "      <td>spring</td>\n",
       "      <td>Action Award Winning Sci-Fi</td>\n",
       "    </tr>\n",
       "    <tr>\n",
       "      <th>1</th>\n",
       "      <td>5</td>\n",
       "      <td>Cowboy Bebop: Tengoku no Tobira</td>\n",
       "      <td>Cowboy Bebop: The Movie</td>\n",
       "      <td>Cowboy Bebop: Knockin' on Heaven's Door</td>\n",
       "      <td>Another day, another bounty—such is the life o...</td>\n",
       "      <td>None</td>\n",
       "      <td>Action Sci-Fi</td>\n",
       "    </tr>\n",
       "    <tr>\n",
       "      <th>2</th>\n",
       "      <td>6</td>\n",
       "      <td>Trigun</td>\n",
       "      <td>Trigun</td>\n",
       "      <td></td>\n",
       "      <td>Vash the Stampede is the man with a $$60,000,0...</td>\n",
       "      <td>spring</td>\n",
       "      <td>Action Adventure Sci-Fi</td>\n",
       "    </tr>\n",
       "    <tr>\n",
       "      <th>3</th>\n",
       "      <td>7</td>\n",
       "      <td>Witch Hunter Robin</td>\n",
       "      <td>Witch Hunter Robin</td>\n",
       "      <td>WHR</td>\n",
       "      <td>Though hidden away from the general public, Wi...</td>\n",
       "      <td>summer</td>\n",
       "      <td>Action Drama Mystery Supernatural</td>\n",
       "    </tr>\n",
       "    <tr>\n",
       "      <th>4</th>\n",
       "      <td>8</td>\n",
       "      <td>Bouken Ou Beet</td>\n",
       "      <td>Beet the Vandel Buster</td>\n",
       "      <td>Adventure King Beet</td>\n",
       "      <td>It is the dark century and the people are suff...</td>\n",
       "      <td>fall</td>\n",
       "      <td>Action Adventure Fantasy</td>\n",
       "    </tr>\n",
       "  </tbody>\n",
       "</table>\n",
       "</div>"
      ],
      "text/plain": [
       "   mal_id                    title_default            title_english  \\\n",
       "0       1                     Cowboy Bebop             Cowboy Bebop   \n",
       "1       5  Cowboy Bebop: Tengoku no Tobira  Cowboy Bebop: The Movie   \n",
       "2       6                           Trigun                   Trigun   \n",
       "3       7               Witch Hunter Robin       Witch Hunter Robin   \n",
       "4       8                   Bouken Ou Beet   Beet the Vandel Buster   \n",
       "\n",
       "                            title_synonyms  \\\n",
       "0                                            \n",
       "1  Cowboy Bebop: Knockin' on Heaven's Door   \n",
       "2                                            \n",
       "3                                      WHR   \n",
       "4                      Adventure King Beet   \n",
       "\n",
       "                                            synopsis  season  \\\n",
       "0  Crime is timeless. By the year 2071, humanity ...  spring   \n",
       "1  Another day, another bounty—such is the life o...    None   \n",
       "2  Vash the Stampede is the man with a $$60,000,0...  spring   \n",
       "3  Though hidden away from the general public, Wi...  summer   \n",
       "4  It is the dark century and the people are suff...    fall   \n",
       "\n",
       "                              genres  \n",
       "0        Action Award Winning Sci-Fi  \n",
       "1                      Action Sci-Fi  \n",
       "2            Action Adventure Sci-Fi  \n",
       "3  Action Drama Mystery Supernatural  \n",
       "4           Action Adventure Fantasy  "
      ]
     },
     "execution_count": 38,
     "metadata": {},
     "output_type": "execute_result"
    }
   ],
   "source": [
    "df.head()"
   ]
  },
  {
   "cell_type": "markdown",
   "metadata": {},
   "source": [
    "## Modelling the Data"
   ]
  },
  {
   "cell_type": "code",
   "execution_count": null,
   "metadata": {
    "execution": {
     "iopub.execute_input": "2025-03-03T17:34:45.081591Z",
     "iopub.status.busy": "2025-03-03T17:34:45.081264Z",
     "iopub.status.idle": "2025-03-03T17:34:45.088279Z",
     "shell.execute_reply": "2025-03-03T17:34:45.086940Z",
     "shell.execute_reply.started": "2025-03-03T17:34:45.081567Z"
    },
    "trusted": true
   },
   "outputs": [],
   "source": [
    "df[\"title_synonyms\"] = df[\"title_synonyms\"].apply(text_cleaner)\n",
    "df[\"title_synonyms\"] = df[\"title_synonyms\"].replace(\"\", np.nan)\n",
    "\n",
    "df = df.dropna(subset = [\"synopsis\"])\n",
    "df[\"title_english\"] = df.apply(handle_english_title, axis =1)\n",
    "df[\"title_synonyms\"] = df.apply(handle_title_synonyms, axis = 1)\n",
    "df[\"updated_synopsis\"] = df.apply(update_synopsis, axis = 1)\n",
    "df[\"updated_synopsis\"] = df[\"updated_synopsis\"].apply(clean_synopsis)\n",
    "df[\"updated_synopsis\"] = df[\"updated_synopsis\"].apply(preprocess_text)\n",
    "df.reset_index(inplace = True)\n",
    "df.drop(columns=[\"index\"], inplace=True)"
   ]
  },
  {
   "cell_type": "code",
   "execution_count": 41,
   "metadata": {
    "execution": {
     "iopub.execute_input": "2025-03-03T17:34:52.229385Z",
     "iopub.status.busy": "2025-03-03T17:34:52.228965Z",
     "iopub.status.idle": "2025-03-03T17:34:52.244999Z",
     "shell.execute_reply": "2025-03-03T17:34:52.244104Z",
     "shell.execute_reply.started": "2025-03-03T17:34:52.229357Z"
    },
    "trusted": true
   },
   "outputs": [
    {
     "data": {
      "text/html": [
       "<div>\n",
       "<style scoped>\n",
       "    .dataframe tbody tr th:only-of-type {\n",
       "        vertical-align: middle;\n",
       "    }\n",
       "\n",
       "    .dataframe tbody tr th {\n",
       "        vertical-align: top;\n",
       "    }\n",
       "\n",
       "    .dataframe thead th {\n",
       "        text-align: right;\n",
       "    }\n",
       "</style>\n",
       "<table border=\"1\" class=\"dataframe\">\n",
       "  <thead>\n",
       "    <tr style=\"text-align: right;\">\n",
       "      <th></th>\n",
       "      <th>mal_id</th>\n",
       "      <th>title_default</th>\n",
       "      <th>title_english</th>\n",
       "      <th>title_synonyms</th>\n",
       "      <th>synopsis</th>\n",
       "      <th>season</th>\n",
       "      <th>genres</th>\n",
       "    </tr>\n",
       "  </thead>\n",
       "  <tbody>\n",
       "    <tr>\n",
       "      <th>0</th>\n",
       "      <td>1</td>\n",
       "      <td>Cowboy Bebop</td>\n",
       "      <td>Cowboy Bebop</td>\n",
       "      <td>NaN</td>\n",
       "      <td>Crime is timeless. By the year 2071, humanity ...</td>\n",
       "      <td>spring</td>\n",
       "      <td>Action Award Winning Sci-Fi</td>\n",
       "    </tr>\n",
       "    <tr>\n",
       "      <th>1</th>\n",
       "      <td>5</td>\n",
       "      <td>Cowboy Bebop: Tengoku no Tobira</td>\n",
       "      <td>Cowboy Bebop: The Movie</td>\n",
       "      <td>Cowboy Bebop  Knockin  on Heaven s Door</td>\n",
       "      <td>Another day, another bounty—such is the life o...</td>\n",
       "      <td>None</td>\n",
       "      <td>Action Sci-Fi</td>\n",
       "    </tr>\n",
       "    <tr>\n",
       "      <th>2</th>\n",
       "      <td>6</td>\n",
       "      <td>Trigun</td>\n",
       "      <td>Trigun</td>\n",
       "      <td>NaN</td>\n",
       "      <td>Vash the Stampede is the man with a $$60,000,0...</td>\n",
       "      <td>spring</td>\n",
       "      <td>Action Adventure Sci-Fi</td>\n",
       "    </tr>\n",
       "    <tr>\n",
       "      <th>3</th>\n",
       "      <td>7</td>\n",
       "      <td>Witch Hunter Robin</td>\n",
       "      <td>Witch Hunter Robin</td>\n",
       "      <td>WHR</td>\n",
       "      <td>Though hidden away from the general public, Wi...</td>\n",
       "      <td>summer</td>\n",
       "      <td>Action Drama Mystery Supernatural</td>\n",
       "    </tr>\n",
       "    <tr>\n",
       "      <th>4</th>\n",
       "      <td>8</td>\n",
       "      <td>Bouken Ou Beet</td>\n",
       "      <td>Beet the Vandel Buster</td>\n",
       "      <td>Adventure King Beet</td>\n",
       "      <td>It is the dark century and the people are suff...</td>\n",
       "      <td>fall</td>\n",
       "      <td>Action Adventure Fantasy</td>\n",
       "    </tr>\n",
       "    <tr>\n",
       "      <th>...</th>\n",
       "      <td>...</td>\n",
       "      <td>...</td>\n",
       "      <td>...</td>\n",
       "      <td>...</td>\n",
       "      <td>...</td>\n",
       "      <td>...</td>\n",
       "      <td>...</td>\n",
       "    </tr>\n",
       "    <tr>\n",
       "      <th>270</th>\n",
       "      <td>294</td>\n",
       "      <td>Divergence Eve</td>\n",
       "      <td>None</td>\n",
       "      <td>NaN</td>\n",
       "      <td>In the 24th Century, Intergalactic Space Trave...</td>\n",
       "      <td>summer</td>\n",
       "      <td>Adventure Drama Sci-Fi</td>\n",
       "    </tr>\n",
       "    <tr>\n",
       "      <th>271</th>\n",
       "      <td>295</td>\n",
       "      <td>Divergence Eve 2: Misaki Chronicles</td>\n",
       "      <td>Misaki Chronicle: Divergence Eve</td>\n",
       "      <td>NaN</td>\n",
       "      <td>Through the long distance warp called the \"Exo...</td>\n",
       "      <td>winter</td>\n",
       "      <td>Adventure Drama Sci-Fi</td>\n",
       "    </tr>\n",
       "    <tr>\n",
       "      <th>272</th>\n",
       "      <td>296</td>\n",
       "      <td>Dragon Drive</td>\n",
       "      <td>Dragon Drive</td>\n",
       "      <td>NaN</td>\n",
       "      <td>If there's one word to describe Reiji Ozora, i...</td>\n",
       "      <td>summer</td>\n",
       "      <td>Action Adventure Fantasy Sci-Fi</td>\n",
       "    </tr>\n",
       "    <tr>\n",
       "      <th>273</th>\n",
       "      <td>297</td>\n",
       "      <td>Grenadier: Hohoemi no Senshi</td>\n",
       "      <td>Grenadier: The Beautiful Warrior</td>\n",
       "      <td>Grenadier  The Smiling Senshi</td>\n",
       "      <td>Rushuna is a blonde and very beautiful Senshi ...</td>\n",
       "      <td>fall</td>\n",
       "      <td>Action Adventure Comedy Ecchi</td>\n",
       "    </tr>\n",
       "    <tr>\n",
       "      <th>274</th>\n",
       "      <td>298</td>\n",
       "      <td>.hack//Tasogare no Udewa Densetsu</td>\n",
       "      <td>.hack//Legend of The Twilight</td>\n",
       "      <td>hack  Udeden  hack  Legend of the Twilight Bra...</td>\n",
       "      <td>Winning the legendary characters \"Kite\" and \"B...</td>\n",
       "      <td>winter</td>\n",
       "      <td>Adventure Comedy Fantasy</td>\n",
       "    </tr>\n",
       "  </tbody>\n",
       "</table>\n",
       "<p>275 rows × 7 columns</p>\n",
       "</div>"
      ],
      "text/plain": [
       "     mal_id                        title_default  \\\n",
       "0         1                         Cowboy Bebop   \n",
       "1         5      Cowboy Bebop: Tengoku no Tobira   \n",
       "2         6                               Trigun   \n",
       "3         7                   Witch Hunter Robin   \n",
       "4         8                       Bouken Ou Beet   \n",
       "..      ...                                  ...   \n",
       "270     294                       Divergence Eve   \n",
       "271     295  Divergence Eve 2: Misaki Chronicles   \n",
       "272     296                         Dragon Drive   \n",
       "273     297         Grenadier: Hohoemi no Senshi   \n",
       "274     298    .hack//Tasogare no Udewa Densetsu   \n",
       "\n",
       "                        title_english  \\\n",
       "0                        Cowboy Bebop   \n",
       "1             Cowboy Bebop: The Movie   \n",
       "2                              Trigun   \n",
       "3                  Witch Hunter Robin   \n",
       "4              Beet the Vandel Buster   \n",
       "..                                ...   \n",
       "270                              None   \n",
       "271  Misaki Chronicle: Divergence Eve   \n",
       "272                      Dragon Drive   \n",
       "273  Grenadier: The Beautiful Warrior   \n",
       "274     .hack//Legend of The Twilight   \n",
       "\n",
       "                                        title_synonyms  \\\n",
       "0                                                  NaN   \n",
       "1              Cowboy Bebop  Knockin  on Heaven s Door   \n",
       "2                                                  NaN   \n",
       "3                                                  WHR   \n",
       "4                                  Adventure King Beet   \n",
       "..                                                 ...   \n",
       "270                                                NaN   \n",
       "271                                                NaN   \n",
       "272                                                NaN   \n",
       "273                      Grenadier  The Smiling Senshi   \n",
       "274  hack  Udeden  hack  Legend of the Twilight Bra...   \n",
       "\n",
       "                                              synopsis  season  \\\n",
       "0    Crime is timeless. By the year 2071, humanity ...  spring   \n",
       "1    Another day, another bounty—such is the life o...    None   \n",
       "2    Vash the Stampede is the man with a $$60,000,0...  spring   \n",
       "3    Though hidden away from the general public, Wi...  summer   \n",
       "4    It is the dark century and the people are suff...    fall   \n",
       "..                                                 ...     ...   \n",
       "270  In the 24th Century, Intergalactic Space Trave...  summer   \n",
       "271  Through the long distance warp called the \"Exo...  winter   \n",
       "272  If there's one word to describe Reiji Ozora, i...  summer   \n",
       "273  Rushuna is a blonde and very beautiful Senshi ...    fall   \n",
       "274  Winning the legendary characters \"Kite\" and \"B...  winter   \n",
       "\n",
       "                                genres  \n",
       "0          Action Award Winning Sci-Fi  \n",
       "1                        Action Sci-Fi  \n",
       "2              Action Adventure Sci-Fi  \n",
       "3    Action Drama Mystery Supernatural  \n",
       "4             Action Adventure Fantasy  \n",
       "..                                 ...  \n",
       "270             Adventure Drama Sci-Fi  \n",
       "271             Adventure Drama Sci-Fi  \n",
       "272    Action Adventure Fantasy Sci-Fi  \n",
       "273      Action Adventure Comedy Ecchi  \n",
       "274           Adventure Comedy Fantasy  \n",
       "\n",
       "[275 rows x 7 columns]"
      ]
     },
     "execution_count": 41,
     "metadata": {},
     "output_type": "execute_result"
    }
   ],
   "source": [
    "df"
   ]
  },
  {
   "cell_type": "markdown",
   "metadata": {},
   "source": [
    "## Saving the Data in a csv file"
   ]
  },
  {
   "cell_type": "code",
   "execution_count": null,
   "metadata": {
    "trusted": true
   },
   "outputs": [],
   "source": [
    "df.to_csv(\"modified_data.csv\")"
   ]
  },
  {
   "cell_type": "markdown",
   "metadata": {},
   "source": [
    "## Importing the raw data"
   ]
  },
  {
   "cell_type": "code",
   "execution_count": null,
   "metadata": {
    "trusted": true
   },
   "outputs": [],
   "source": [
    "df = pd.read_csv(\"/kaggle/input/anime-raw-data/modified_data.csv\")\n",
    "df.drop(columns=[\"Unnamed: 0\"], inplace = True)"
   ]
  },
  {
   "cell_type": "code",
   "execution_count": null,
   "metadata": {
    "trusted": true
   },
   "outputs": [],
   "source": [
    "df.head()"
   ]
  },
  {
   "cell_type": "markdown",
   "metadata": {},
   "source": [
    "### SBERT model"
   ]
  },
  {
   "cell_type": "code",
   "execution_count": 8,
   "metadata": {
    "execution": {
     "iopub.execute_input": "2025-02-26T17:34:33.424315Z",
     "iopub.status.busy": "2025-02-26T17:34:33.423970Z",
     "iopub.status.idle": "2025-02-26T17:34:37.692425Z",
     "shell.execute_reply": "2025-02-26T17:34:37.691632Z",
     "shell.execute_reply.started": "2025-02-26T17:34:33.424288Z"
    },
    "trusted": true
   },
   "outputs": [
    {
     "data": {
      "application/vnd.jupyter.widget-view+json": {
       "model_id": "5d13f4ec64fb494b8f9c4d82884b0fd1",
       "version_major": 2,
       "version_minor": 0
      },
      "text/plain": [
       "modules.json:   0%|          | 0.00/349 [00:00<?, ?B/s]"
      ]
     },
     "metadata": {},
     "output_type": "display_data"
    },
    {
     "data": {
      "application/vnd.jupyter.widget-view+json": {
       "model_id": "1765a7ab053c4658adfbe8160a63e3e3",
       "version_major": 2,
       "version_minor": 0
      },
      "text/plain": [
       "config_sentence_transformers.json:   0%|          | 0.00/116 [00:00<?, ?B/s]"
      ]
     },
     "metadata": {},
     "output_type": "display_data"
    },
    {
     "data": {
      "application/vnd.jupyter.widget-view+json": {
       "model_id": "06adfda6d1b24dffb92f9e08742cd33d",
       "version_major": 2,
       "version_minor": 0
      },
      "text/plain": [
       "README.md:   0%|          | 0.00/10.7k [00:00<?, ?B/s]"
      ]
     },
     "metadata": {},
     "output_type": "display_data"
    },
    {
     "data": {
      "application/vnd.jupyter.widget-view+json": {
       "model_id": "f62184dceb784639abe0230a63b79bb8",
       "version_major": 2,
       "version_minor": 0
      },
      "text/plain": [
       "sentence_bert_config.json:   0%|          | 0.00/53.0 [00:00<?, ?B/s]"
      ]
     },
     "metadata": {},
     "output_type": "display_data"
    },
    {
     "data": {
      "application/vnd.jupyter.widget-view+json": {
       "model_id": "327e279f08414419aea635a100524df2",
       "version_major": 2,
       "version_minor": 0
      },
      "text/plain": [
       "config.json:   0%|          | 0.00/612 [00:00<?, ?B/s]"
      ]
     },
     "metadata": {},
     "output_type": "display_data"
    },
    {
     "data": {
      "application/vnd.jupyter.widget-view+json": {
       "model_id": "e55f3e26cc704906ad1db21034df8e5a",
       "version_major": 2,
       "version_minor": 0
      },
      "text/plain": [
       "model.safetensors:   0%|          | 0.00/90.9M [00:00<?, ?B/s]"
      ]
     },
     "metadata": {},
     "output_type": "display_data"
    },
    {
     "data": {
      "application/vnd.jupyter.widget-view+json": {
       "model_id": "7d2839f15dba4bcb83da43fd6d653946",
       "version_major": 2,
       "version_minor": 0
      },
      "text/plain": [
       "tokenizer_config.json:   0%|          | 0.00/350 [00:00<?, ?B/s]"
      ]
     },
     "metadata": {},
     "output_type": "display_data"
    },
    {
     "data": {
      "application/vnd.jupyter.widget-view+json": {
       "model_id": "75dd4b588afa4129939f62640b1dac12",
       "version_major": 2,
       "version_minor": 0
      },
      "text/plain": [
       "vocab.txt:   0%|          | 0.00/232k [00:00<?, ?B/s]"
      ]
     },
     "metadata": {},
     "output_type": "display_data"
    },
    {
     "data": {
      "application/vnd.jupyter.widget-view+json": {
       "model_id": "abce0396420f498e93b514b0a771edbf",
       "version_major": 2,
       "version_minor": 0
      },
      "text/plain": [
       "tokenizer.json:   0%|          | 0.00/466k [00:00<?, ?B/s]"
      ]
     },
     "metadata": {},
     "output_type": "display_data"
    },
    {
     "data": {
      "application/vnd.jupyter.widget-view+json": {
       "model_id": "bcac059541c84597901116cdae5f65c4",
       "version_major": 2,
       "version_minor": 0
      },
      "text/plain": [
       "special_tokens_map.json:   0%|          | 0.00/112 [00:00<?, ?B/s]"
      ]
     },
     "metadata": {},
     "output_type": "display_data"
    },
    {
     "data": {
      "application/vnd.jupyter.widget-view+json": {
       "model_id": "0c1433915d3941a889305ec5dda04c84",
       "version_major": 2,
       "version_minor": 0
      },
      "text/plain": [
       "1_Pooling%2Fconfig.json:   0%|          | 0.00/190 [00:00<?, ?B/s]"
      ]
     },
     "metadata": {},
     "output_type": "display_data"
    }
   ],
   "source": [
    "# Load model and move it to GPU\n",
    "device = \"cuda\" if torch.cuda.is_available() else \"cpu\"\n",
    "model = SentenceTransformer(\"all-MiniLM-L6-v2\").to(device)"
   ]
  },
  {
   "cell_type": "code",
   "execution_count": null,
   "metadata": {
    "trusted": true
   },
   "outputs": [],
   "source": [
    "print(datetime.datetime.now().time())\n",
    "df[\"embedding\"] = df[\"updated_synopsis\"].apply(lambda x: model.encode(x, show_progress_bar=False))\n",
    "print(datetime.datetime.now().time())"
   ]
  },
  {
   "cell_type": "markdown",
   "metadata": {},
   "source": [
    "### Sava DataFrame in pickle file"
   ]
  },
  {
   "cell_type": "code",
   "execution_count": null,
   "metadata": {
    "trusted": true
   },
   "outputs": [],
   "source": [
    "df.to_pickle(\"Anime_embed_data.pkl\")"
   ]
  },
  {
   "cell_type": "markdown",
   "metadata": {},
   "source": [
    "### load Data from pickle File"
   ]
  },
  {
   "cell_type": "code",
   "execution_count": 4,
   "metadata": {
    "execution": {
     "iopub.execute_input": "2025-02-26T17:33:59.007970Z",
     "iopub.status.busy": "2025-02-26T17:33:59.007636Z",
     "iopub.status.idle": "2025-02-26T17:34:00.413793Z",
     "shell.execute_reply": "2025-02-26T17:34:00.412727Z",
     "shell.execute_reply.started": "2025-02-26T17:33:59.007945Z"
    },
    "trusted": true
   },
   "outputs": [],
   "source": [
    "df = pd.read_pickle(\"/kaggle/input/anime-raw-data/Anime_embed_data.pkl\")"
   ]
  },
  {
   "cell_type": "markdown",
   "metadata": {},
   "source": [
    "### Creating Embedding matrix of embeddings column which will be used to find similarity with the user query"
   ]
  },
  {
   "cell_type": "code",
   "execution_count": 5,
   "metadata": {
    "execution": {
     "iopub.execute_input": "2025-02-26T17:34:03.552274Z",
     "iopub.status.busy": "2025-02-26T17:34:03.551945Z",
     "iopub.status.idle": "2025-02-26T17:34:03.660062Z",
     "shell.execute_reply": "2025-02-26T17:34:03.659130Z",
     "shell.execute_reply.started": "2025-02-26T17:34:03.552249Z"
    },
    "trusted": true
   },
   "outputs": [],
   "source": [
    "embedding_matrix = np.vstack(df[\"embedding\"].values)"
   ]
  },
  {
   "cell_type": "markdown",
   "metadata": {},
   "source": [
    "### Prediction Pipeline"
   ]
  },
  {
   "cell_type": "code",
   "execution_count": null,
   "metadata": {
    "execution": {
     "iopub.execute_input": "2025-02-26T17:54:57.276075Z",
     "iopub.status.busy": "2025-02-26T17:54:57.275737Z",
     "iopub.status.idle": "2025-02-26T17:54:57.281029Z",
     "shell.execute_reply": "2025-02-26T17:54:57.280011Z",
     "shell.execute_reply.started": "2025-02-26T17:54:57.276049Z"
    },
    "trusted": true
   },
   "outputs": [],
   "source": [
    "def prediction_pipeline(user_query):\n",
    "    user_query_embedding = get_embedding(user_query)  # User Query will be passed to get_embedding function where preprocessing of text will be carried and SBERT encoding will be returned for that query\n",
    "    # Compute similarity scores\n",
    "    similarities = cosine_similarity([user_query_embedding], embedding_matrix)[0]\n",
    "\n",
    "    # Get top K recommendations\n",
    "    top_k_indices = np.argsort(similarities)[::-1][:5]\n",
    "    recommended_anime = df.iloc[top_k_indices][[\"title_default\", \"embedding\"]]  # title will be used as labels for Explainability, embedding to plot the Anime \n",
    "    return recommended_anime"
   ]
  },
  {
   "cell_type": "code",
   "execution_count": null,
   "metadata": {
    "execution": {
     "iopub.execute_input": "2025-02-26T17:54:58.904861Z",
     "iopub.status.busy": "2025-02-26T17:54:58.904488Z",
     "iopub.status.idle": "2025-02-26T17:54:58.974771Z",
     "shell.execute_reply": "2025-02-26T17:54:58.973739Z",
     "shell.execute_reply.started": "2025-02-26T17:54:58.904830Z"
    },
    "trusted": true
   },
   "outputs": [
    {
     "data": {
      "text/html": [
       "<div>\n",
       "<style scoped>\n",
       "    .dataframe tbody tr th:only-of-type {\n",
       "        vertical-align: middle;\n",
       "    }\n",
       "\n",
       "    .dataframe tbody tr th {\n",
       "        vertical-align: top;\n",
       "    }\n",
       "\n",
       "    .dataframe thead th {\n",
       "        text-align: right;\n",
       "    }\n",
       "</style>\n",
       "<table border=\"1\" class=\"dataframe\">\n",
       "  <thead>\n",
       "    <tr style=\"text-align: right;\">\n",
       "      <th></th>\n",
       "      <th>title_default</th>\n",
       "      <th>embedding</th>\n",
       "    </tr>\n",
       "  </thead>\n",
       "  <tbody>\n",
       "    <tr>\n",
       "      <th>2709</th>\n",
       "      <td>Death Note: Rewrite</td>\n",
       "      <td>[-0.030127326, 0.010555047, -0.0416725, -0.070...</td>\n",
       "    </tr>\n",
       "    <tr>\n",
       "      <th>1393</th>\n",
       "      <td>Death Note</td>\n",
       "      <td>[-0.0029539862, -0.01401821, -0.06349944, -0.0...</td>\n",
       "    </tr>\n",
       "    <tr>\n",
       "      <th>23017</th>\n",
       "      <td>Seikatsu wa Psychopath no Shi no You ni</td>\n",
       "      <td>[0.010736803, 0.017244874, -0.012422802, 0.020...</td>\n",
       "    </tr>\n",
       "    <tr>\n",
       "      <th>19078</th>\n",
       "      <td>Human Bug Daigaku</td>\n",
       "      <td>[0.0043858653, -0.017569505, -0.113012776, 0.0...</td>\n",
       "    </tr>\n",
       "    <tr>\n",
       "      <th>2665</th>\n",
       "      <td>Seisai</td>\n",
       "      <td>[-0.04038861, 0.049404167, -0.014107146, -0.01...</td>\n",
       "    </tr>\n",
       "  </tbody>\n",
       "</table>\n",
       "</div>"
      ],
      "text/plain": [
       "                                 title_default  \\\n",
       "2709                       Death Note: Rewrite   \n",
       "1393                                Death Note   \n",
       "23017  Seikatsu wa Psychopath no Shi no You ni   \n",
       "19078                        Human Bug Daigaku   \n",
       "2665                                    Seisai   \n",
       "\n",
       "                                               embedding  \n",
       "2709   [-0.030127326, 0.010555047, -0.0416725, -0.070...  \n",
       "1393   [-0.0029539862, -0.01401821, -0.06349944, -0.0...  \n",
       "23017  [0.010736803, 0.017244874, -0.012422802, 0.020...  \n",
       "19078  [0.0043858653, -0.017569505, -0.113012776, 0.0...  \n",
       "2665   [-0.04038861, 0.049404167, -0.014107146, -0.01...  "
      ]
     },
     "execution_count": 78,
     "metadata": {},
     "output_type": "execute_result"
    }
   ],
   "source": [
    "user_input = \"a guys finds a notebook that can kill people by writing their name and death reason on it\"\n",
    "recommendations = prediction_pipeline(user_input)\n",
    "recommendations"
   ]
  }
 ],
 "metadata": {
  "kaggle": {
   "accelerator": "none",
   "dataSources": [
    {
     "datasetId": 6713761,
     "sourceId": 10861047,
     "sourceType": "datasetVersion"
    }
   ],
   "dockerImageVersionId": 30886,
   "isGpuEnabled": false,
   "isInternetEnabled": true,
   "language": "python",
   "sourceType": "notebook"
  },
  "kernelspec": {
   "display_name": "Python 3",
   "language": "python",
   "name": "python3"
  },
  "language_info": {
   "codemirror_mode": {
    "name": "ipython",
    "version": 3
   },
   "file_extension": ".py",
   "mimetype": "text/x-python",
   "name": "python",
   "nbconvert_exporter": "python",
   "pygments_lexer": "ipython3",
   "version": "3.10.12"
  }
 },
 "nbformat": 4,
 "nbformat_minor": 4
}
